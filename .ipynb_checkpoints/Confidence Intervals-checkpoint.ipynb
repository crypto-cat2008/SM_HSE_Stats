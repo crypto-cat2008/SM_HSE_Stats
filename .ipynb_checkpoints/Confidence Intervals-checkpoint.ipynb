{
 "cells": [
  {
   "cell_type": "code",
   "execution_count": 58,
   "metadata": {},
   "outputs": [],
   "source": [
    "import numpy as np\n",
    "import scipy.stats"
   ]
  },
  {
   "cell_type": "code",
   "execution_count": 59,
   "metadata": {},
   "outputs": [],
   "source": [
    "sample_size = 500\n",
    "pop_mean = 3\n",
    "pop_range = 4"
   ]
  },
  {
   "cell_type": "code",
   "execution_count": 60,
   "metadata": {},
   "outputs": [
    {
     "name": "stdout",
     "output_type": "stream",
     "text": [
      "(2.9048152814286565, 3.1152817457580415)\n"
     ]
    }
   ],
   "source": [
    "# constracts confidence interval for pop_mean (we don't know it) using this sample\n",
    "\n",
    "sample = np.random.uniform(pop_mean - pop_range,\n",
    "                           pop_mean + pop_range,\n",
    "                           size=sample_size)\n",
    "\n",
    "stderr = np.std(sample, ddof=1) / np.sqrt(sample_size) # ddof subtructed from n in 1/(n-ddof) to get unbiased variance\n",
    "r = 1.96 * stderr\n",
    "sample_mean = np.mean(sample)\n",
    "confint = (sample_mean - stderr, sample_mean + stderr)\n",
    "print(confint)"
   ]
  },
  {
   "cell_type": "code",
   "execution_count": 94,
   "metadata": {},
   "outputs": [
    {
     "name": "stdout",
     "output_type": "stream",
     "text": [
      "0.9121\n"
     ]
    }
   ],
   "source": [
    "sample_size = 10\n",
    "pop_mean = 3\n",
    "pop_range = 4\n",
    "inside_ci = 0\n",
    "iterations = 10000\n",
    "\n",
    "for i in range(iterations):\n",
    "    \n",
    "    sample = np.random.uniform(pop_mean - pop_range,\n",
    "                           pop_mean + pop_range,\n",
    "                           size=sample_size)\n",
    "\n",
    "    stderr = np.std(sample, ddof=1) / np.sqrt(sample_size) \n",
    "    r = 1.96 * stderr\n",
    "    sample_mean = np.mean(sample)\n",
    "    confint = (sample_mean - r, sample_mean + r)\n",
    "    \n",
    "    if confint[0] < pop_mean < confint[1]:\n",
    "        inside_ci += 1\n",
    "        \n",
    "print(inside_ci / iterations)"
   ]
  },
  {
   "cell_type": "code",
   "execution_count": 85,
   "metadata": {},
   "outputs": [
    {
     "data": {
      "text/plain": [
       "(-1.959963984540054, 1.959963984540054)"
      ]
     },
     "execution_count": 85,
     "metadata": {},
     "output_type": "execute_result"
    }
   ],
   "source": [
    "# confidence intervals other than 95% (1.96)\n",
    "\n",
    "scipy.stats.norm.interval(0.95)"
   ]
  },
  {
   "cell_type": "code",
   "execution_count": 86,
   "metadata": {},
   "outputs": [],
   "source": [
    "import matplotlib.pyplot as plt\n",
    "%matplotlib inline"
   ]
  },
  {
   "cell_type": "code",
   "execution_count": 103,
   "metadata": {},
   "outputs": [
    {
     "name": "stdout",
     "output_type": "stream",
     "text": [
      "-4.032142983557536 4.032142983557536\n"
     ]
    },
    {
     "data": {
      "image/png": "[encoded data removed]",
      "text/plain": [
       "<Figure size 432x288 with 1 Axes>"
      ]
     },
     "metadata": {
      "needs_background": "light"
     },
     "output_type": "display_data"
    }
   ],
   "source": [
    "conf_level = 0.99\n",
    "df = 5 # sample_size - 1\n",
    "left, right = scipy.stats.t.interval(conf_level, df=df)\n",
    "x = np.linspace(-7, 7, 200)\n",
    "plt.plot(x, scipy.stats.t.pdf(x, df=df))\n",
    "x_int = np.linspace(left, right, 200)\n",
    "plt.fill_between(x_int, scipy.stats.t.pdf(x_int, df=df))\n",
    "plt.plot(x, np.zeros_like(x))\n",
    "print(left, right)"
   ]
  },
  {
   "cell_type": "code",
   "execution_count": 101,
   "metadata": {},
   "outputs": [
    {
     "name": "stdout",
     "output_type": "stream",
     "text": [
      "0.9371\n"
     ]
    }
   ],
   "source": [
    "sample_size = 5\n",
    "pop_mean = 3\n",
    "pop_range = 4\n",
    "inside_ci = 0\n",
    "iterations = 10000\n",
    "df = sample_size - 1\n",
    "conf_level = 0.95\n",
    "\n",
    "for i in range(iterations):\n",
    "    \n",
    "    sample = np.random.uniform(pop_mean - pop_range,\n",
    "                           pop_mean + pop_range,\n",
    "                           size=sample_size)\n",
    "\n",
    "    stderr = np.std(sample, ddof=1) / np.sqrt(sample_size) \n",
    "    left, right = scipy.stats.t.interval(conf_level, df=df)\n",
    "    r = right * stderr\n",
    "    sample_mean = np.mean(sample)\n",
    "    confint = (sample_mean - r, sample_mean + r)\n",
    "    \n",
    "    if confint[0] < pop_mean < confint[1]:\n",
    "        inside_ci += 1\n",
    "        \n",
    "print(inside_ci / iterations)"
   ]
  },
  {
   "cell_type": "code",
   "execution_count": 102,
   "metadata": {},
   "outputs": [
    {
     "data": {
      "text/plain": [
       "2.7764451051977987"
      ]
     },
     "execution_count": 102,
     "metadata": {},
     "output_type": "execute_result"
    }
   ],
   "source": [
    "right"
   ]
  },
  {
   "cell_type": "code",
   "execution_count": 107,
   "metadata": {},
   "outputs": [
    {
     "name": "stdout",
     "output_type": "stream",
     "text": [
      "(1.3706287487270912, 4.057942679844338)\n"
     ]
    }
   ],
   "source": [
    "# Quize\n",
    "\n",
    "sample = [1, 2, 2, 4, 3, 2, 5]\n",
    "stderr = np.std(sample, ddof=1) / np.sqrt(len(sample)) \n",
    "left, right = scipy.stats.norm.interval(0.99)\n",
    "r = right * stderr\n",
    "confint = (np.mean(sample) - r, np.mean(sample) + r)\n",
    "print(confint)"
   ]
  },
  {
   "cell_type": "code",
   "execution_count": 108,
   "metadata": {},
   "outputs": [
    {
     "name": "stdout",
     "output_type": "stream",
     "text": [
      "(0.780340992755814, 4.648230435815615)\n"
     ]
    }
   ],
   "source": [
    "sample = [1, 2, 2, 4, 3, 2, 5]\n",
    "stderr = np.std(sample, ddof=1) / np.sqrt(len(sample)) \n",
    "left, right = scipy.stats.t.interval(0.99, df=(len(sample)-1))\n",
    "r = right * stderr\n",
    "confint = (np.mean(sample) - r, np.mean(sample) + r)\n",
    "print(confint)"
   ]
  },
  {
   "cell_type": "code",
   "execution_count": null,
   "metadata": {},
   "outputs": [],
   "source": []
  }
 ],
 "metadata": {
  "kernelspec": {
   "display_name": "Python 3",
   "language": "python",
   "name": "python3"
  },
  "language_info": {
   "codemirror_mode": {
    "name": "ipython",
    "version": 3
   },
   "file_extension": ".py",
   "mimetype": "text/x-python",
   "name": "python",
   "nbconvert_exporter": "python",
   "pygments_lexer": "ipython3",
   "version": "3.8.5"
  }
 },
 "nbformat": 4,
 "nbformat_minor": 4
}
