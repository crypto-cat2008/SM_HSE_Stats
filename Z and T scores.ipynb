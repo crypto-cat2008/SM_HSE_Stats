{
 "cells": [
  {
   "cell_type": "code",
   "execution_count": 304,
   "metadata": {},
   "outputs": [],
   "source": [
    "from scipy.stats import norm\n",
    "import matplotlib.pyplot as plt\n",
    "%matplotlib inline\n",
    "import numpy as np"
   ]
  },
  {
   "cell_type": "code",
   "execution_count": 305,
   "metadata": {},
   "outputs": [
    {
     "data": {
      "text/plain": [
       "array([164.83355908, 160.74651962, 185.93356037, 160.50178693,\n",
       "       179.99102636, 171.45210168, 169.50582379, 187.96752911,\n",
       "       169.13237423, 169.89945455])"
      ]
     },
     "execution_count": 305,
     "metadata": {},
     "output_type": "execute_result"
    }
   ],
   "source": [
    "# Task 1\n",
    "X = norm(loc=175, scale=8) # loc is excepted value, scale is standard deviation\n",
    "X.rvs(10)"
   ]
  },
  {
   "cell_type": "code",
   "execution_count": 306,
   "metadata": {},
   "outputs": [
    {
     "data": {
      "text/plain": [
       "0.26598552904870054"
      ]
     },
     "execution_count": 306,
     "metadata": {},
     "output_type": "execute_result"
    }
   ],
   "source": [
    "1 - X.cdf(180)"
   ]
  },
  {
   "cell_type": "code",
   "execution_count": 307,
   "metadata": {},
   "outputs": [
    {
     "data": {
      "text/plain": [
       "0.625"
      ]
     },
     "execution_count": 307,
     "metadata": {},
     "output_type": "execute_result"
    }
   ],
   "source": [
    "# Task 2\n",
    "z = (180-175)/8\n",
    "z"
   ]
  },
  {
   "cell_type": "code",
   "execution_count": 308,
   "metadata": {},
   "outputs": [
    {
     "data": {
      "text/plain": [
       "0.26598552904870054"
      ]
     },
     "execution_count": 308,
     "metadata": {},
     "output_type": "execute_result"
    }
   ],
   "source": [
    "# Task 3\n",
    "X = norm(loc=0, scale=1) # loc is excepted value, scale is standard deviation\n",
    "1 - X.cdf(0.625)"
   ]
  },
  {
   "cell_type": "code",
   "execution_count": 309,
   "metadata": {},
   "outputs": [],
   "source": [
    "# task 5\n",
    "x = [182, 184, 166, 160, 190, 175, 174, 183, 170]"
   ]
  },
  {
   "cell_type": "code",
   "execution_count": 310,
   "metadata": {},
   "outputs": [],
   "source": [
    "X = norm(loc=175, scale=8/3) # loc is excepted value, scale is standard deviation"
   ]
  },
  {
   "cell_type": "code",
   "execution_count": 311,
   "metadata": {},
   "outputs": [
    {
     "data": {
      "text/plain": [
       "0.35383023332727626"
      ]
     },
     "execution_count": 311,
     "metadata": {},
     "output_type": "execute_result"
    }
   ],
   "source": [
    "1- X.cdf(176)"
   ]
  },
  {
   "cell_type": "code",
   "execution_count": 312,
   "metadata": {},
   "outputs": [],
   "source": [
    "# Lecture\n",
    "import scipy.stats\n",
    "import matplotlib.pyplot as plt\n",
    "%matplotlib inline"
   ]
  },
  {
   "cell_type": "code",
   "execution_count": 313,
   "metadata": {},
   "outputs": [],
   "source": [
    "sample_size = 10\n",
    "pop_mean = 0.5 # sample (population) mean\n",
    "iterations = 10000\n",
    "tvalues = []\n",
    "\n",
    "for i in range(iterations):\n",
    "    sample = np.random.uniform(0, 1, sample_size) # not normal distribution\n",
    "    t = ((np.mean(sample) - pop_mean) /\n",
    "          np.sqrt(np.var(sample, ddof=1)) * \n",
    "          np.sqrt(sample_size)) # ddof=1 means that variance is unbiased\n",
    "    tvalues.append(t)"
   ]
  },
  {
   "cell_type": "code",
   "execution_count": 314,
   "metadata": {},
   "outputs": [
    {
     "data": {
      "text/plain": [
       "array([0.31704699, 0.82725636, 0.52700331, 0.11854768, 0.43768815,\n",
       "       0.17518675, 0.69457026, 0.32052693, 0.77734171, 0.36720938])"
      ]
     },
     "execution_count": 314,
     "metadata": {},
     "output_type": "execute_result"
    }
   ],
   "source": [
    "sample"
   ]
  },
  {
   "cell_type": "code",
   "execution_count": 315,
   "metadata": {},
   "outputs": [
    {
     "data": {
      "text/plain": [
       "(-7.0, 7.0)"
      ]
     },
     "execution_count": 315,
     "metadata": {},
     "output_type": "execute_result"
    },
    {
     "data": {
      "image/png": "[encoded data removed]",
      "text/plain": [
       "<Figure size 432x288 with 1 Axes>"
      ]
     },
     "metadata": {
      "needs_background": "light"
     },
     "output_type": "display_data"
    }
   ],
   "source": [
    "# Normal distribution - does not work well for small sample sizes - differs from T for x away from center.\n",
    "\n",
    "plt.hist(tvalues, bins=30, density=True);\n",
    "x = np.linspace(-7, 7, 200)\n",
    "plt.plot(x, scipy.stats.norm.pdf(x))\n",
    "plt.xlim(-7, 7)"
   ]
  },
  {
   "cell_type": "code",
   "execution_count": 316,
   "metadata": {},
   "outputs": [
    {
     "data": {
      "text/plain": [
       "(-7.0, 7.0)"
      ]
     },
     "execution_count": 316,
     "metadata": {},
     "output_type": "execute_result"
    },
    {
     "data": {
      "image/png": "[encoded data removed]",
      "text/plain": [
       "<Figure size 432x288 with 1 Axes>"
      ]
     },
     "metadata": {
      "needs_background": "light"
     },
     "output_type": "display_data"
    }
   ],
   "source": [
    "# T-distribution\n",
    "plt.hist(tvalues, bins=30, density=True);\n",
    "x = np.linspace(-7, 7, 200)\n",
    "plt.plot(x, scipy.stats.t.pdf(x, df=sample_size - 1)) # df - degrees of freedom, depends on sample size\n",
    "plt.xlim(-7, 7)"
   ]
  },
  {
   "cell_type": "code",
   "execution_count": 317,
   "metadata": {},
   "outputs": [
    {
     "data": {
      "text/plain": [
       "<matplotlib.legend.Legend at 0x1ac01e309a0>"
      ]
     },
     "execution_count": 317,
     "metadata": {},
     "output_type": "execute_result"
    },
    {
     "data": {
      "image/png": "[encoded data removed]",
      "text/plain": [
       "<Figure size 432x288 with 1 Axes>"
      ]
     },
     "metadata": {
      "needs_background": "light"
     },
     "output_type": "display_data"
    }
   ],
   "source": [
    "# t distribution has heavier tails than normal\n",
    "# when degrees of freedom are large then t-distribution is close to normal\n",
    "\n",
    "plt.plot(x, scipy.stats.t.pdf(x, df=1), label='t, df=1')\n",
    "plt.plot(x, scipy.stats.t.pdf(x, df=5), label='t, df=5')\n",
    "plt.plot(x, scipy.stats.t.pdf(x, df=20), label='t, df=20')\n",
    "plt.plot(x, scipy.stats.norm.pdf(x), label='norm')\n",
    "plt.legend()"
   ]
  },
  {
   "cell_type": "code",
   "execution_count": 318,
   "metadata": {},
   "outputs": [],
   "source": [
    "# Lectures\n",
    "from scipy.stats import ttest_1samp"
   ]
  },
  {
   "cell_type": "code",
   "execution_count": 319,
   "metadata": {},
   "outputs": [
    {
     "data": {
      "text/plain": [
       "Ttest_1sampResult(statistic=2.905487990874558, pvalue=0.01743886090834335)"
      ]
     },
     "execution_count": 319,
     "metadata": {},
     "output_type": "execute_result"
    }
   ],
   "source": [
    "# based on the result of t-test we can reject Ho (mu0=3)in favor of H1(mu0 != 3)\n",
    "# sample came from distribution whose mean is not equal to 3.\n",
    "# becasue (0.05 (alpha ) - p value) is positive we can say that mean should be larger than 3.\n",
    "\n",
    "sample = [3, 5, 4, 6, 2, 3, 4, 5, 5, 4]\n",
    "mu0 = 3\n",
    "ttest_1samp(sample, mu0)"
   ]
  },
  {
   "cell_type": "code",
   "execution_count": 320,
   "metadata": {},
   "outputs": [
    {
     "name": "stdout",
     "output_type": "stream",
     "text": [
      "2.9054879908745583\n"
     ]
    }
   ],
   "source": [
    "t_obs = ((np.mean(sample) - mu0) / np.std(sample, ddof=1)) * np.sqrt(len(sample)) #same value as statistics above\n",
    "print(t_obs)"
   ]
  },
  {
   "cell_type": "code",
   "execution_count": 321,
   "metadata": {},
   "outputs": [],
   "source": [
    "x = np.linspace(-5, 5, 200)"
   ]
  },
  {
   "cell_type": "code",
   "execution_count": 322,
   "metadata": {},
   "outputs": [],
   "source": [
    "from scipy.stats import t"
   ]
  },
  {
   "cell_type": "code",
   "execution_count": 323,
   "metadata": {},
   "outputs": [],
   "source": [
    "T = t(df=(len(sample) - 1))"
   ]
  },
  {
   "cell_type": "code",
   "execution_count": 324,
   "metadata": {},
   "outputs": [
    {
     "data": {
      "text/plain": [
       "<matplotlib.collections.PolyCollection at 0x1ac02017340>"
      ]
     },
     "execution_count": 324,
     "metadata": {},
     "output_type": "execute_result"
    },
    {
     "data": {
      "image/png": "[encoded data removed]",
      "text/plain": [
       "<Figure size 432x288 with 1 Axes>"
      ]
     },
     "metadata": {
      "needs_background": "light"
     },
     "output_type": "display_data"
    }
   ],
   "source": [
    "plt.plot(x, T.pdf(x))\n",
    "x_left = np.linspace(-5, -t_obs, 200)\n",
    "x_right = np.linspace(t_obs, 5, 200)\n",
    "plt.fill_between(x_left, T.pdf(x_left)) # sum of these 2 is equal to p value\n",
    "plt.fill_between(x_right, T.pdf(x_right)) # sum of these 2 is equal to p value"
   ]
  },
  {
   "cell_type": "code",
   "execution_count": 325,
   "metadata": {},
   "outputs": [
    {
     "data": {
      "text/plain": [
       "0.017438860908343328"
      ]
     },
     "execution_count": 325,
     "metadata": {},
     "output_type": "execute_result"
    }
   ],
   "source": [
    "T.cdf(-t_obs) * 2 # this is p value - same as second result of ttest function"
   ]
  },
  {
   "cell_type": "code",
   "execution_count": 326,
   "metadata": {},
   "outputs": [
    {
     "name": "stdout",
     "output_type": "stream",
     "text": [
      "0.0472\n"
     ]
    }
   ],
   "source": [
    "# using simulations to test t-test\n",
    "# check how many times we would make type 1 error using t-test\n",
    "sample_size = 10\n",
    "iterations = 10000\n",
    "significance_level = 0.05\n",
    "fp_counter = 0\n",
    "\n",
    "for i in range (iterations):\n",
    "    sample = np.random.normal(size=sample_size)\n",
    "    t_stat, pvalue = ttest_1samp(sample, 0) # 0 is expected value of standard distribution\n",
    "    \n",
    "    if pvalue < significance_level:\n",
    "        fp_counter += 1\n",
    "print(fp_counter / iterations)  # this is false positive rate-should be less or equal to significance level-ttest works as expected"
   ]
  },
  {
   "cell_type": "code",
   "execution_count": 327,
   "metadata": {},
   "outputs": [
    {
     "name": "stdout",
     "output_type": "stream",
     "text": [
      "0.0732\n"
     ]
    }
   ],
   "source": [
    "# try with not normal distribution \n",
    "\n",
    "sample_size = 3 # on small sample - false positive rate is higher than 5%. with increased sample size we will get closer to 5%\n",
    "iterations = 10000\n",
    "significance_level = 0.05\n",
    "fp_counter = 0\n",
    "\n",
    "for i in range (iterations):\n",
    "    sample = np.random.uniform(low=-1, high=1, size=sample_size)\n",
    "    t_stat, pvalue = ttest_1samp(sample, 0) # 0 is expected value of -1 to 1 uniform distribution\n",
    "    \n",
    "    if pvalue < significance_level:\n",
    "        fp_counter += 1\n",
    "print(fp_counter / iterations)"
   ]
  },
  {
   "cell_type": "code",
   "execution_count": 328,
   "metadata": {},
   "outputs": [
    {
     "name": "stdout",
     "output_type": "stream",
     "text": [
      "0.0792\n"
     ]
    }
   ],
   "source": [
    "# try with discrete distribution\n",
    "\n",
    "sample_size = 50\n",
    "iterations = 10000\n",
    "significance_level = 0.05\n",
    "fp_counter = 0\n",
    "\n",
    "# if we add outlier (1000) - we will get higher than 5% error rate - becasue it is too away from normal distribution\n",
    "# make it closer to 5% - incrse sample size to 500\n",
    "# you can take log of data to reduce discrepancies - this is done to test income samples\n",
    "\n",
    "population = [2 , 3, 4, 1, 2.2, 3.3, 4.4, 6.6, 1000] \n",
    "\n",
    "for i in range (iterations):\n",
    "    sample = np.random.choice(population, size=sample_size)\n",
    "    t_stat, pvalue = ttest_1samp(sample, np.mean(population)) \n",
    "    \n",
    "    if pvalue < significance_level:\n",
    "        fp_counter += 1\n",
    "print(fp_counter / iterations)"
   ]
  },
  {
   "cell_type": "code",
   "execution_count": 329,
   "metadata": {},
   "outputs": [
    {
     "name": "stdout",
     "output_type": "stream",
     "text": [
      "0.0497\n"
     ]
    }
   ],
   "source": [
    "# One tailed t-test\n",
    "# H0: mu = mu0 and H1: mu > mu0\n",
    "# divide pvalue by 2 to find one tailed result\n",
    "\n",
    "sample_size = 10\n",
    "iterations = 10000\n",
    "significance_level = 0.05\n",
    "fp_counter = 0\n",
    "\n",
    "for i in range (iterations):\n",
    "    sample = np.random.normal(size=sample_size)\n",
    "    t_stat, pvalue = ttest_1samp(sample, 0) # 0 is expected value of standard distribution\n",
    "    pvalue = pvalue / 2 #one tail\n",
    "    \n",
    "    if t_stat > 0 and pvalue < significance_level: # check that t_stats is positive\n",
    "        # reject H0\n",
    "        fp_counter += 1\n",
    "print(fp_counter / iterations)"
   ]
  },
  {
   "cell_type": "code",
   "execution_count": 330,
   "metadata": {},
   "outputs": [
    {
     "data": {
      "text/plain": [
       "0.019970984035859396"
      ]
     },
     "execution_count": 330,
     "metadata": {},
     "output_type": "execute_result"
    }
   ],
   "source": [
    "# Quiz 1\n",
    "\n",
    "1 - t.cdf(3, df=4)"
   ]
  },
  {
   "cell_type": "code",
   "execution_count": 331,
   "metadata": {},
   "outputs": [
    {
     "data": {
      "text/plain": [
       "0.9800290159641406"
      ]
     },
     "execution_count": 331,
     "metadata": {},
     "output_type": "execute_result"
    }
   ],
   "source": [
    "1 - t.cdf(-3, df=4)"
   ]
  },
  {
   "cell_type": "code",
   "execution_count": 332,
   "metadata": {},
   "outputs": [
    {
     "data": {
      "text/plain": [
       "Ttest_1sampResult(statistic=2.400108850942297, pvalue=0.039890766746082586)"
      ]
     },
     "execution_count": 332,
     "metadata": {},
     "output_type": "execute_result"
    }
   ],
   "source": [
    "# Quiz 2\n",
    "\n",
    "sample = [165, 170, 175, 180, 185, 185, 190, 195, 200, 210]\n",
    "mu0 = 175\n",
    "ttest_1samp(sample, mu0)"
   ]
  },
  {
   "cell_type": "code",
   "execution_count": 333,
   "metadata": {},
   "outputs": [
    {
     "name": "stdout",
     "output_type": "stream",
     "text": [
      "-226.24178400018465\n"
     ]
    }
   ],
   "source": [
    "t_obs = ((np.mean(sample1) - mu0) / np.std(sample1, ddof=1)) * np.sqrt(len(sample1))\n",
    "print(t_obs)"
   ]
  },
  {
   "cell_type": "code",
   "execution_count": 334,
   "metadata": {},
   "outputs": [
    {
     "data": {
      "text/plain": [
       "0.06951310490361085"
      ]
     },
     "execution_count": 334,
     "metadata": {},
     "output_type": "execute_result"
    }
   ],
   "source": [
    "(1 - t.cdf(1.9, df=24))*2"
   ]
  },
  {
   "cell_type": "code",
   "execution_count": 335,
   "metadata": {},
   "outputs": [
    {
     "name": "stdout",
     "output_type": "stream",
     "text": [
      "0.0777416409478998\n",
      "0.0388708204739499\n"
     ]
    }
   ],
   "source": [
    "# Quiz 2\n",
    "sample = [11,14,15,14,14]\n",
    "mu0 = 12\n",
    "t_obs, pvalue = ttest_1samp(sample, mu0)\n",
    "print(pvalue)\n",
    "print(pvalue / 2)"
   ]
  },
  {
   "cell_type": "code",
   "execution_count": 336,
   "metadata": {},
   "outputs": [
    {
     "name": "stdout",
     "output_type": "stream",
     "text": [
      "-2.250000000000001\n",
      "0.08764517650339458\n"
     ]
    },
    {
     "data": {
      "text/plain": [
       "0.9561774117483027"
      ]
     },
     "execution_count": 336,
     "metadata": {},
     "output_type": "execute_result"
    }
   ],
   "source": [
    "sample = [8,12,10,12,9]\n",
    "mu0 = 12\n",
    "t_obs, pvalue = ttest_1samp(sample, mu0)\n",
    "print(t_obs)\n",
    "print(pvalue)\n",
    "(1 - pvalue) + (pvalue / 2)"
   ]
  },
  {
   "cell_type": "code",
   "execution_count": 337,
   "metadata": {},
   "outputs": [
    {
     "data": {
      "text/plain": [
       "Ttest_indResult(statistic=-1.8397324220155997, pvalue=0.09292661405651291)"
      ]
     },
     "execution_count": 337,
     "metadata": {},
     "output_type": "execute_result"
    }
   ],
   "source": [
    "from scipy.stats import ttest_ind\n",
    "sample1=[2,4,6,1,3,1,4]\n",
    "sample2=[3,6,2,5,7,7]\n",
    "ttest_ind(sample1, sample2, equal_var=True)"
   ]
  },
  {
   "cell_type": "code",
   "execution_count": 338,
   "metadata": {},
   "outputs": [],
   "source": [
    "# lectures two-sample t-test\n",
    "from scipy.stats import ttest_ind"
   ]
  },
  {
   "cell_type": "code",
   "execution_count": 339,
   "metadata": {},
   "outputs": [],
   "source": [
    "sample1 = [3,4,5,4,6,7]\n",
    "sample2 = [10, 8,4,20, 6, 50,23,2]"
   ]
  },
  {
   "cell_type": "code",
   "execution_count": 340,
   "metadata": {},
   "outputs": [
    {
     "data": {
      "text/plain": [
       "Ttest_indResult(statistic=-1.6077865540475678, pvalue=0.13385879249866536)"
      ]
     },
     "execution_count": 340,
     "metadata": {},
     "output_type": "execute_result"
    }
   ],
   "source": [
    "ttest_ind(sample1, sample2)"
   ]
  },
  {
   "cell_type": "code",
   "execution_count": 341,
   "metadata": {},
   "outputs": [
    {
     "data": {
      "text/plain": [
       "Ttest_indResult(statistic=-1.8707921599718762, pvalue=0.10261249372000565)"
      ]
     },
     "execution_count": 341,
     "metadata": {},
     "output_type": "execute_result"
    }
   ],
   "source": [
    "ttest_ind(sample1, sample2, equal_var=False) # if variances of two sample are very different"
   ]
  },
  {
   "cell_type": "code",
   "execution_count": 342,
   "metadata": {},
   "outputs": [
    {
     "data": {
      "text/plain": [
       "Ttest_indResult(statistic=-9.623189997698113, pvalue=1.9624057660484677e-08)"
      ]
     },
     "execution_count": 342,
     "metadata": {},
     "output_type": "execute_result"
    }
   ],
   "source": [
    "# Quiz\n",
    "sample1 = [47, 48, 51, 52, 52, 50, 47, 46, 52, 48, 49, 55, 52, 49, 52, 47, 50, 53, 48, 52]\n",
    "sample2 = [60, 58, 61, 61, 54, 57, 59, 63, 60, 61]\n",
    "ttest_ind(sample1, sample2, equal_var=False)"
   ]
  },
  {
   "cell_type": "code",
   "execution_count": 343,
   "metadata": {},
   "outputs": [],
   "source": [
    "X = norm(loc=0, scale=np.sqrt(5/100)) # loc is excepted value, scale is standard deviation"
   ]
  },
  {
   "cell_type": "code",
   "execution_count": 344,
   "metadata": {},
   "outputs": [
    {
     "name": "stdout",
     "output_type": "stream",
     "text": [
      "0.3678004522900572\n"
     ]
    }
   ],
   "source": [
    "x_obs = scipy.stats.norm.ppf(0.95, loc=0, scale=np.sqrt(5/100))\n",
    "print(x_obs)"
   ]
  },
  {
   "cell_type": "code",
   "execution_count": 345,
   "metadata": {},
   "outputs": [
    {
     "data": {
      "text/plain": [
       "0.95"
      ]
     },
     "execution_count": 345,
     "metadata": {},
     "output_type": "execute_result"
    }
   ],
   "source": [
    "scipy.stats.norm.cdf(x_obs, loc=0, scale=np.sqrt(5/100))"
   ]
  },
  {
   "cell_type": "code",
   "execution_count": 346,
   "metadata": {},
   "outputs": [
    {
     "data": {
      "text/plain": [
       "0.2771884043107984"
      ]
     },
     "execution_count": 346,
     "metadata": {},
     "output_type": "execute_result"
    }
   ],
   "source": [
    "scipy.stats.norm.cdf(x_obs, loc=0.5, scale=np.sqrt(5/100))"
   ]
  },
  {
   "cell_type": "code",
   "execution_count": 347,
   "metadata": {},
   "outputs": [
    {
     "data": {
      "text/plain": [
       "0.7228115956892016"
      ]
     },
     "execution_count": 347,
     "metadata": {},
     "output_type": "execute_result"
    }
   ],
   "source": [
    "1 - scipy.stats.norm.cdf(x_obs, loc=0.5, scale=np.sqrt(5/100))"
   ]
  },
  {
   "cell_type": "code",
   "execution_count": 348,
   "metadata": {},
   "outputs": [
    {
     "data": {
      "text/plain": [
       "0.9976527540587823"
      ]
     },
     "execution_count": 348,
     "metadata": {},
     "output_type": "execute_result"
    }
   ],
   "source": [
    "1 - scipy.stats.norm.cdf(x_obs, loc=1, scale=np.sqrt(5/100))"
   ]
  },
  {
   "cell_type": "code",
   "execution_count": 358,
   "metadata": {},
   "outputs": [
    {
     "data": {
      "text/plain": [
       "Ttest_indResult(statistic=-0.3038412337952006, pvalue=0.7715100414727278)"
      ]
     },
     "execution_count": 358,
     "metadata": {},
     "output_type": "execute_result"
    }
   ],
   "source": [
    "# Quiz\n",
    "sample1 = [300, 320, 200, 700]\n",
    "sample2 = [350, 370, 240, 750]\n",
    "ttest_ind(sample1, sample2)"
   ]
  },
  {
   "cell_type": "code",
   "execution_count": 353,
   "metadata": {},
   "outputs": [],
   "source": [
    "stats, pval = ttest_ind(sample1, sample2, equal_var=False)"
   ]
  },
  {
   "cell_type": "code",
   "execution_count": 354,
   "metadata": {},
   "outputs": [
    {
     "data": {
      "text/plain": [
       "0.22848839591355297"
      ]
     },
     "execution_count": 354,
     "metadata": {},
     "output_type": "execute_result"
    }
   ],
   "source": [
    "1 - pval"
   ]
  },
  {
   "cell_type": "code",
   "execution_count": 359,
   "metadata": {},
   "outputs": [
    {
     "data": {
      "text/plain": [
       "Ttest_1sampResult(statistic=19.0, pvalue=0.00031834344007115753)"
      ]
     },
     "execution_count": 359,
     "metadata": {},
     "output_type": "execute_result"
    }
   ],
   "source": [
    "sample3= [50,50,40,50]\n",
    "ttest_1samp(sample3, 0.0)"
   ]
  },
  {
   "cell_type": "code",
   "execution_count": 357,
   "metadata": {},
   "outputs": [
    {
     "data": {
      "text/plain": [
       "Ttest_relResult(statistic=-19.0, pvalue=0.00031834344007115753)"
      ]
     },
     "execution_count": 357,
     "metadata": {},
     "output_type": "execute_result"
    }
   ],
   "source": [
    "scipy.stats.ttest_rel(sample1, sample2)"
   ]
  },
  {
   "cell_type": "code",
   "execution_count": 374,
   "metadata": {},
   "outputs": [
    {
     "data": {
      "text/plain": [
       "Ttest_indResult(statistic=2.076923076923078, pvalue=0.05240200640713197)"
      ]
     },
     "execution_count": 374,
     "metadata": {},
     "output_type": "execute_result"
    }
   ],
   "source": [
    "# SGA Week 4\n",
    "\n",
    "control = [6, 7, 7, 5, 7, 8, 8, 7, 7, 7]\n",
    "treat = [7, 6, 6, 5, 5, 6, 7, 5, 5, 8]\n",
    "\n",
    "ttest_ind(control, treat)"
   ]
  },
  {
   "cell_type": "code",
   "execution_count": 371,
   "metadata": {},
   "outputs": [
    {
     "data": {
      "text/plain": [
       "6.9"
      ]
     },
     "execution_count": 371,
     "metadata": {},
     "output_type": "execute_result"
    }
   ],
   "source": [
    "np.array(control)\n",
    "np.mean(control)"
   ]
  },
  {
   "cell_type": "code",
   "execution_count": 372,
   "metadata": {},
   "outputs": [
    {
     "data": {
      "text/plain": [
       "6.0"
      ]
     },
     "execution_count": 372,
     "metadata": {},
     "output_type": "execute_result"
    }
   ],
   "source": [
    "np.array(treat)\n",
    "np.mean(treat)"
   ]
  },
  {
   "cell_type": "code",
   "execution_count": null,
   "metadata": {},
   "outputs": [],
   "source": []
  }
 ],
 "metadata": {
  "kernelspec": {
   "display_name": "Python 3",
   "language": "python",
   "name": "python3"
  },
  "language_info": {
   "codemirror_mode": {
    "name": "ipython",
    "version": 3
   },
   "file_extension": ".py",
   "mimetype": "text/x-python",
   "name": "python",
   "nbconvert_exporter": "python",
   "pygments_lexer": "ipython3",
   "version": "3.8.5"
  }
 },
 "nbformat": 4,
 "nbformat_minor": 5
}
